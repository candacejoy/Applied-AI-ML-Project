{
 "cells": [
  {
   "cell_type": "code",
   "execution_count": 1,
   "id": "4c457976",
   "metadata": {},
   "outputs": [],
   "source": [
    "# !pip uninstall -y numpy scipy scikit-learn\n",
    "# !pip install numpy --upgrade --force-reinstall\n",
    "# !pip install scipy --upgrade --force-reinstall\n",
    "# !pip install scikit-learn --upgrade --force-reinstall"
   ]
  },
  {
   "cell_type": "code",
   "execution_count": 2,
   "id": "6149c2a2",
   "metadata": {
    "collapsed": true
   },
   "outputs": [
    {
     "name": "stdout",
     "output_type": "stream",
     "text": [
      "Requirement already satisfied: numpy==1.26.4 in /home/azureuser/anaconda3/lib/python3.9/site-packages (1.26.4)\r\n"
     ]
    }
   ],
   "source": [
    "!pip install numpy==1.26.4"
   ]
  },
  {
   "cell_type": "code",
   "execution_count": 3,
   "id": "ddc8e90a",
   "metadata": {},
   "outputs": [],
   "source": [
    "#import packages\n",
    "import pandas as pd\n",
    "import numpy as np\n",
    "import requests\n",
    "import io\n",
    "import datetime\n",
    "from sklearn.model_selection import train_test_split\n",
    "from sklearn.linear_model import LinearRegression\n",
    "import joblib"
   ]
  },
  {
   "cell_type": "code",
   "execution_count": 4,
   "id": "d602cb50",
   "metadata": {
    "collapsed": true
   },
   "outputs": [
    {
     "name": "stdout",
     "output_type": "stream",
     "text": [
      "Requirement already satisfied: evidently==0.6.7 in /home/azureuser/anaconda3/lib/python3.9/site-packages (0.6.7)\n",
      "Requirement already satisfied: typing-inspect>=0.9.0 in /home/azureuser/anaconda3/lib/python3.9/site-packages (from evidently==0.6.7) (0.9.0)\n",
      "Requirement already satisfied: scipy>=1.10.0 in /home/azureuser/anaconda3/lib/python3.9/site-packages (from evidently==0.6.7) (1.13.1)\n",
      "Requirement already satisfied: pandas[parquet]>=1.3.5 in /home/azureuser/anaconda3/lib/python3.9/site-packages (from evidently==0.6.7) (1.4.2)\n",
      "Requirement already satisfied: scikit-learn>=1.0.1 in /home/azureuser/anaconda3/lib/python3.9/site-packages (from evidently==0.6.7) (1.6.1)\n",
      "Requirement already satisfied: requests>=2.32.0 in /home/azureuser/anaconda3/lib/python3.9/site-packages (from evidently==0.6.7) (2.32.4)\n",
      "Requirement already satisfied: rich>=13 in /home/azureuser/anaconda3/lib/python3.9/site-packages (from evidently==0.6.7) (14.1.0)\n",
      "Requirement already satisfied: litestar>=2.8.3 in /home/azureuser/anaconda3/lib/python3.9/site-packages (from evidently==0.6.7) (2.16.0)\n",
      "Requirement already satisfied: urllib3>=1.26.19 in /home/azureuser/anaconda3/lib/python3.9/site-packages (from evidently==0.6.7) (2.5.0)\n",
      "Requirement already satisfied: deprecation>=2.1.0 in /home/azureuser/anaconda3/lib/python3.9/site-packages (from evidently==0.6.7) (2.1.0)\n",
      "Requirement already satisfied: statsmodels>=0.12.2 in /home/azureuser/anaconda3/lib/python3.9/site-packages (from evidently==0.6.7) (0.13.2)\n",
      "Requirement already satisfied: uvicorn[standard]>=0.22.0 in /home/azureuser/anaconda3/lib/python3.9/site-packages (from evidently==0.6.7) (0.35.0)\n",
      "Requirement already satisfied: plotly<6,>=5.10.0 in /home/azureuser/anaconda3/lib/python3.9/site-packages (from evidently==0.6.7) (5.24.1)\n",
      "Requirement already satisfied: typer>=0.3 in /home/azureuser/anaconda3/lib/python3.9/site-packages (from evidently==0.6.7) (0.16.0)\n",
      "Requirement already satisfied: iterative-telemetry>=0.0.5 in /home/azureuser/anaconda3/lib/python3.9/site-packages (from evidently==0.6.7) (0.0.10)\n",
      "Requirement already satisfied: nltk>=3.6.7 in /home/azureuser/anaconda3/lib/python3.9/site-packages (from evidently==0.6.7) (3.7)\n",
      "Requirement already satisfied: PyYAML>=5.4 in /home/azureuser/anaconda3/lib/python3.9/site-packages (from evidently==0.6.7) (6.0)\n",
      "Requirement already satisfied: numpy<2.1,>=1.22.0 in /home/azureuser/anaconda3/lib/python3.9/site-packages (from evidently==0.6.7) (1.26.4)\n",
      "Requirement already satisfied: dynaconf>=3.2.4 in /home/azureuser/anaconda3/lib/python3.9/site-packages (from evidently==0.6.7) (3.2.11)\n",
      "Requirement already satisfied: certifi>=2024.7.4 in /home/azureuser/anaconda3/lib/python3.9/site-packages (from evidently==0.6.7) (2025.7.14)\n",
      "Requirement already satisfied: watchdog>=3.0.0 in /home/azureuser/anaconda3/lib/python3.9/site-packages (from evidently==0.6.7) (6.0.0)\n",
      "Requirement already satisfied: uuid6>=2024.7.10 in /home/azureuser/anaconda3/lib/python3.9/site-packages (from evidently==0.6.7) (2025.0.1)\n",
      "Requirement already satisfied: fsspec>=2024.6.1 in /home/azureuser/anaconda3/lib/python3.9/site-packages (from evidently==0.6.7) (2025.7.0)\n",
      "Requirement already satisfied: cryptography>=43.0.1 in /home/azureuser/anaconda3/lib/python3.9/site-packages (from evidently==0.6.7) (45.0.5)\n",
      "Requirement already satisfied: ujson>=5.4.0 in /home/azureuser/anaconda3/lib/python3.9/site-packages (from evidently==0.6.7) (5.10.0)\n",
      "Requirement already satisfied: pydantic>=1.10.16 in /home/azureuser/anaconda3/lib/python3.9/site-packages (from evidently==0.6.7) (2.11.7)\n",
      "Requirement already satisfied: cffi>=1.14 in /home/azureuser/anaconda3/lib/python3.9/site-packages (from cryptography>=43.0.1->evidently==0.6.7) (1.15.0)\n",
      "Requirement already satisfied: pycparser in /home/azureuser/anaconda3/lib/python3.9/site-packages (from cffi>=1.14->cryptography>=43.0.1->evidently==0.6.7) (2.21)\n",
      "Requirement already satisfied: packaging in /home/azureuser/anaconda3/lib/python3.9/site-packages (from deprecation>=2.1.0->evidently==0.6.7) (25.0)\n",
      "Requirement already satisfied: distro in /home/azureuser/anaconda3/lib/python3.9/site-packages (from iterative-telemetry>=0.0.5->evidently==0.6.7) (1.9.0)\n",
      "Requirement already satisfied: filelock in /home/azureuser/anaconda3/lib/python3.9/site-packages (from iterative-telemetry>=0.0.5->evidently==0.6.7) (3.6.0)\n",
      "Requirement already satisfied: appdirs in /home/azureuser/anaconda3/lib/python3.9/site-packages (from iterative-telemetry>=0.0.5->evidently==0.6.7) (1.4.4)\n",
      "Requirement already satisfied: importlib-metadata in /home/azureuser/anaconda3/lib/python3.9/site-packages (from litestar>=2.8.3->evidently==0.6.7) (8.7.0)\n",
      "Requirement already satisfied: msgspec>=0.18.2 in /home/azureuser/anaconda3/lib/python3.9/site-packages (from litestar>=2.8.3->evidently==0.6.7) (0.19.0)\n",
      "Requirement already satisfied: multidict>=6.0.2 in /home/azureuser/anaconda3/lib/python3.9/site-packages (from litestar>=2.8.3->evidently==0.6.7) (6.6.3)\n",
      "Requirement already satisfied: polyfactory>=2.6.3 in /home/azureuser/anaconda3/lib/python3.9/site-packages (from litestar>=2.8.3->evidently==0.6.7) (2.22.1)\n",
      "Requirement already satisfied: rich-click in /home/azureuser/anaconda3/lib/python3.9/site-packages (from litestar>=2.8.3->evidently==0.6.7) (1.8.9)\n",
      "Requirement already satisfied: multipart>=1.2.0 in /home/azureuser/anaconda3/lib/python3.9/site-packages (from litestar>=2.8.3->evidently==0.6.7) (1.3.0)\n",
      "Requirement already satisfied: exceptiongroup in /home/azureuser/anaconda3/lib/python3.9/site-packages (from litestar>=2.8.3->evidently==0.6.7) (1.3.0)\n",
      "Requirement already satisfied: anyio>=3 in /home/azureuser/anaconda3/lib/python3.9/site-packages (from litestar>=2.8.3->evidently==0.6.7) (4.9.0)\n",
      "Requirement already satisfied: litestar-htmx>=0.4.0 in /home/azureuser/anaconda3/lib/python3.9/site-packages (from litestar>=2.8.3->evidently==0.6.7) (0.5.0)\n",
      "Requirement already satisfied: httpx>=0.22 in /home/azureuser/anaconda3/lib/python3.9/site-packages (from litestar>=2.8.3->evidently==0.6.7) (0.28.1)\n",
      "Requirement already satisfied: click in /home/azureuser/anaconda3/lib/python3.9/site-packages (from litestar>=2.8.3->evidently==0.6.7) (8.0.4)\n",
      "Requirement already satisfied: typing-extensions in /home/azureuser/anaconda3/lib/python3.9/site-packages (from litestar>=2.8.3->evidently==0.6.7) (4.14.1)\n",
      "Requirement already satisfied: sniffio>=1.1 in /home/azureuser/anaconda3/lib/python3.9/site-packages (from anyio>=3->litestar>=2.8.3->evidently==0.6.7) (1.2.0)\n",
      "Requirement already satisfied: idna>=2.8 in /home/azureuser/anaconda3/lib/python3.9/site-packages (from anyio>=3->litestar>=2.8.3->evidently==0.6.7) (3.3)\n",
      "Requirement already satisfied: httpcore==1.* in /home/azureuser/anaconda3/lib/python3.9/site-packages (from httpx>=0.22->litestar>=2.8.3->evidently==0.6.7) (1.0.9)\n",
      "Requirement already satisfied: h11>=0.16 in /home/azureuser/anaconda3/lib/python3.9/site-packages (from httpcore==1.*->httpx>=0.22->litestar>=2.8.3->evidently==0.6.7) (0.16.0)\n",
      "Requirement already satisfied: regex>=2021.8.3 in /home/azureuser/anaconda3/lib/python3.9/site-packages (from nltk>=3.6.7->evidently==0.6.7) (2022.3.15)\n",
      "Requirement already satisfied: joblib in /home/azureuser/anaconda3/lib/python3.9/site-packages (from nltk>=3.6.7->evidently==0.6.7) (1.5.1)\n",
      "Requirement already satisfied: tqdm in /home/azureuser/anaconda3/lib/python3.9/site-packages (from nltk>=3.6.7->evidently==0.6.7) (4.64.0)\n",
      "\u001b[33mWARNING: pandas 1.4.2 does not provide the extra 'parquet'\u001b[0m\n",
      "Requirement already satisfied: python-dateutil>=2.8.1 in /home/azureuser/anaconda3/lib/python3.9/site-packages (from pandas[parquet]>=1.3.5->evidently==0.6.7) (2.8.2)\n",
      "Requirement already satisfied: pytz>=2020.1 in /home/azureuser/anaconda3/lib/python3.9/site-packages (from pandas[parquet]>=1.3.5->evidently==0.6.7) (2021.3)\n",
      "Requirement already satisfied: tenacity>=6.2.0 in /home/azureuser/anaconda3/lib/python3.9/site-packages (from plotly<6,>=5.10.0->evidently==0.6.7) (8.5.0)\n",
      "Requirement already satisfied: faker>=5.0.0 in /home/azureuser/anaconda3/lib/python3.9/site-packages (from polyfactory>=2.6.3->litestar>=2.8.3->evidently==0.6.7) (37.5.3)\n",
      "Requirement already satisfied: tzdata in /home/azureuser/anaconda3/lib/python3.9/site-packages (from faker>=5.0.0->polyfactory>=2.6.3->litestar>=2.8.3->evidently==0.6.7) (2025.2)\n"
     ]
    },
    {
     "name": "stdout",
     "output_type": "stream",
     "text": [
      "Requirement already satisfied: pydantic-core==2.33.2 in /home/azureuser/anaconda3/lib/python3.9/site-packages (from pydantic>=1.10.16->evidently==0.6.7) (2.33.2)\n",
      "Requirement already satisfied: typing-inspection>=0.4.0 in /home/azureuser/anaconda3/lib/python3.9/site-packages (from pydantic>=1.10.16->evidently==0.6.7) (0.4.1)\n",
      "Requirement already satisfied: annotated-types>=0.6.0 in /home/azureuser/anaconda3/lib/python3.9/site-packages (from pydantic>=1.10.16->evidently==0.6.7) (0.7.0)\n",
      "Requirement already satisfied: six>=1.5 in /home/azureuser/anaconda3/lib/python3.9/site-packages (from python-dateutil>=2.8.1->pandas[parquet]>=1.3.5->evidently==0.6.7) (1.16.0)\n",
      "Requirement already satisfied: charset_normalizer<4,>=2 in /home/azureuser/anaconda3/lib/python3.9/site-packages (from requests>=2.32.0->evidently==0.6.7) (2.0.4)\n",
      "Requirement already satisfied: markdown-it-py>=2.2.0 in /home/azureuser/anaconda3/lib/python3.9/site-packages (from rich>=13->evidently==0.6.7) (3.0.0)\n",
      "Requirement already satisfied: pygments<3.0.0,>=2.13.0 in /home/azureuser/anaconda3/lib/python3.9/site-packages (from rich>=13->evidently==0.6.7) (2.19.2)\n",
      "Requirement already satisfied: mdurl~=0.1 in /home/azureuser/anaconda3/lib/python3.9/site-packages (from markdown-it-py>=2.2.0->rich>=13->evidently==0.6.7) (0.1.2)\n",
      "Requirement already satisfied: threadpoolctl>=3.1.0 in /home/azureuser/anaconda3/lib/python3.9/site-packages (from scikit-learn>=1.0.1->evidently==0.6.7) (3.6.0)\n",
      "Requirement already satisfied: patsy>=0.5.2 in /home/azureuser/anaconda3/lib/python3.9/site-packages (from statsmodels>=0.12.2->evidently==0.6.7) (0.5.2)\n",
      "Requirement already satisfied: shellingham>=1.3.0 in /home/azureuser/anaconda3/lib/python3.9/site-packages (from typer>=0.3->evidently==0.6.7) (1.5.4)\n",
      "Requirement already satisfied: mypy-extensions>=0.3.0 in /home/azureuser/anaconda3/lib/python3.9/site-packages (from typing-inspect>=0.9.0->evidently==0.6.7) (0.4.3)\n",
      "Requirement already satisfied: watchfiles>=0.13 in /home/azureuser/anaconda3/lib/python3.9/site-packages (from uvicorn[standard]>=0.22.0->evidently==0.6.7) (1.1.0)\n",
      "Requirement already satisfied: python-dotenv>=0.13 in /home/azureuser/anaconda3/lib/python3.9/site-packages (from uvicorn[standard]>=0.22.0->evidently==0.6.7) (1.1.1)\n",
      "Requirement already satisfied: uvloop>=0.15.1 in /home/azureuser/anaconda3/lib/python3.9/site-packages (from uvicorn[standard]>=0.22.0->evidently==0.6.7) (0.21.0)\n",
      "Requirement already satisfied: httptools>=0.6.3 in /home/azureuser/anaconda3/lib/python3.9/site-packages (from uvicorn[standard]>=0.22.0->evidently==0.6.7) (0.6.4)\n",
      "Requirement already satisfied: websockets>=10.4 in /home/azureuser/anaconda3/lib/python3.9/site-packages (from uvicorn[standard]>=0.22.0->evidently==0.6.7) (15.0.1)\n",
      "Requirement already satisfied: zipp>=3.20 in /home/azureuser/anaconda3/lib/python3.9/site-packages (from importlib-metadata->litestar>=2.8.3->evidently==0.6.7) (3.23.0)\n"
     ]
    }
   ],
   "source": [
    "!pip install evidently==0.6.7"
   ]
  },
  {
   "cell_type": "code",
   "execution_count": 5,
   "id": "6b704f31",
   "metadata": {},
   "outputs": [],
   "source": [
    "from evidently.report import Report\n",
    "from evidently.metric_preset import DataDriftPreset\n",
    "from evidently.metric_preset import TargetDriftPreset\n"
   ]
  },
  {
   "cell_type": "code",
   "execution_count": 6,
   "id": "f4260498",
   "metadata": {},
   "outputs": [],
   "source": [
    "# print(\"Downloading NYC taxi trip data...\")\n",
    "# data_url = 'https://github.com/DataTalksClub/nyc-tlc-data/releases/download/yellow/yellow_tripdata_2019-01.csv.gz'\n",
    "# response = requests.get(data_url)\n",
    "# response.raise_for_status() # Check if the download was successful\n",
    "# df = pd.read_csv(io.BytesIO(response.content), compression='gzip')\n",
    " "
   ]
  },
  {
   "cell_type": "code",
   "execution_count": 7,
   "id": "9178727e",
   "metadata": {},
   "outputs": [
    {
     "name": "stdout",
     "output_type": "stream",
     "text": [
      "Downloading Auto MPG dataset...\n"
     ]
    }
   ],
   "source": [
    "print(\"Downloading Auto MPG dataset...\")\n",
    "data_url = \"https://archive.ics.uci.edu/ml/machine-learning-databases/auto-mpg/auto-mpg.data\"\n",
    "column_names = [\"mpg\", \"cylinders\", \"displacement\", \"horsepower\", \"weight\",\n",
    "                \"acceleration\", \"model_year\", \"origin\", \"car_name\"]\n",
    "\n",
    "df = pd.read_csv(data_url, delim_whitespace=True, names=column_names, na_values='?')\n"
   ]
  },
  {
   "cell_type": "code",
   "execution_count": 8,
   "id": "c0979d7b",
   "metadata": {},
   "outputs": [],
   "source": [
    "feature_columns = ['cylinders', 'displacement', 'horsepower', 'weight', 'acceleration']\n",
    "target_column = 'mpg'\n",
    "\n",
    "df = df[feature_columns + [target_column]]\n"
   ]
  },
  {
   "cell_type": "code",
   "execution_count": 9,
   "id": "23ee9cb5",
   "metadata": {
    "collapsed": true
   },
   "outputs": [
    {
     "data": {
      "text/html": [
       "<div>\n",
       "<style scoped>\n",
       "    .dataframe tbody tr th:only-of-type {\n",
       "        vertical-align: middle;\n",
       "    }\n",
       "\n",
       "    .dataframe tbody tr th {\n",
       "        vertical-align: top;\n",
       "    }\n",
       "\n",
       "    .dataframe thead th {\n",
       "        text-align: right;\n",
       "    }\n",
       "</style>\n",
       "<table border=\"1\" class=\"dataframe\">\n",
       "  <thead>\n",
       "    <tr style=\"text-align: right;\">\n",
       "      <th></th>\n",
       "      <th>cylinders</th>\n",
       "      <th>displacement</th>\n",
       "      <th>horsepower</th>\n",
       "      <th>weight</th>\n",
       "      <th>acceleration</th>\n",
       "      <th>mpg</th>\n",
       "    </tr>\n",
       "  </thead>\n",
       "  <tbody>\n",
       "    <tr>\n",
       "      <th>0</th>\n",
       "      <td>8</td>\n",
       "      <td>307.0</td>\n",
       "      <td>130.0</td>\n",
       "      <td>3504.0</td>\n",
       "      <td>12.0</td>\n",
       "      <td>18.0</td>\n",
       "    </tr>\n",
       "    <tr>\n",
       "      <th>1</th>\n",
       "      <td>8</td>\n",
       "      <td>350.0</td>\n",
       "      <td>165.0</td>\n",
       "      <td>3693.0</td>\n",
       "      <td>11.5</td>\n",
       "      <td>15.0</td>\n",
       "    </tr>\n",
       "    <tr>\n",
       "      <th>2</th>\n",
       "      <td>8</td>\n",
       "      <td>318.0</td>\n",
       "      <td>150.0</td>\n",
       "      <td>3436.0</td>\n",
       "      <td>11.0</td>\n",
       "      <td>18.0</td>\n",
       "    </tr>\n",
       "    <tr>\n",
       "      <th>3</th>\n",
       "      <td>8</td>\n",
       "      <td>304.0</td>\n",
       "      <td>150.0</td>\n",
       "      <td>3433.0</td>\n",
       "      <td>12.0</td>\n",
       "      <td>16.0</td>\n",
       "    </tr>\n",
       "    <tr>\n",
       "      <th>4</th>\n",
       "      <td>8</td>\n",
       "      <td>302.0</td>\n",
       "      <td>140.0</td>\n",
       "      <td>3449.0</td>\n",
       "      <td>10.5</td>\n",
       "      <td>17.0</td>\n",
       "    </tr>\n",
       "    <tr>\n",
       "      <th>...</th>\n",
       "      <td>...</td>\n",
       "      <td>...</td>\n",
       "      <td>...</td>\n",
       "      <td>...</td>\n",
       "      <td>...</td>\n",
       "      <td>...</td>\n",
       "    </tr>\n",
       "    <tr>\n",
       "      <th>393</th>\n",
       "      <td>4</td>\n",
       "      <td>140.0</td>\n",
       "      <td>86.0</td>\n",
       "      <td>2790.0</td>\n",
       "      <td>15.6</td>\n",
       "      <td>27.0</td>\n",
       "    </tr>\n",
       "    <tr>\n",
       "      <th>394</th>\n",
       "      <td>4</td>\n",
       "      <td>97.0</td>\n",
       "      <td>52.0</td>\n",
       "      <td>2130.0</td>\n",
       "      <td>24.6</td>\n",
       "      <td>44.0</td>\n",
       "    </tr>\n",
       "    <tr>\n",
       "      <th>395</th>\n",
       "      <td>4</td>\n",
       "      <td>135.0</td>\n",
       "      <td>84.0</td>\n",
       "      <td>2295.0</td>\n",
       "      <td>11.6</td>\n",
       "      <td>32.0</td>\n",
       "    </tr>\n",
       "    <tr>\n",
       "      <th>396</th>\n",
       "      <td>4</td>\n",
       "      <td>120.0</td>\n",
       "      <td>79.0</td>\n",
       "      <td>2625.0</td>\n",
       "      <td>18.6</td>\n",
       "      <td>28.0</td>\n",
       "    </tr>\n",
       "    <tr>\n",
       "      <th>397</th>\n",
       "      <td>4</td>\n",
       "      <td>119.0</td>\n",
       "      <td>82.0</td>\n",
       "      <td>2720.0</td>\n",
       "      <td>19.4</td>\n",
       "      <td>31.0</td>\n",
       "    </tr>\n",
       "  </tbody>\n",
       "</table>\n",
       "<p>398 rows × 6 columns</p>\n",
       "</div>"
      ],
      "text/plain": [
       "     cylinders  displacement  horsepower  weight  acceleration   mpg\n",
       "0            8         307.0       130.0  3504.0          12.0  18.0\n",
       "1            8         350.0       165.0  3693.0          11.5  15.0\n",
       "2            8         318.0       150.0  3436.0          11.0  18.0\n",
       "3            8         304.0       150.0  3433.0          12.0  16.0\n",
       "4            8         302.0       140.0  3449.0          10.5  17.0\n",
       "..         ...           ...         ...     ...           ...   ...\n",
       "393          4         140.0        86.0  2790.0          15.6  27.0\n",
       "394          4          97.0        52.0  2130.0          24.6  44.0\n",
       "395          4         135.0        84.0  2295.0          11.6  32.0\n",
       "396          4         120.0        79.0  2625.0          18.6  28.0\n",
       "397          4         119.0        82.0  2720.0          19.4  31.0\n",
       "\n",
       "[398 rows x 6 columns]"
      ]
     },
     "execution_count": 9,
     "metadata": {},
     "output_type": "execute_result"
    }
   ],
   "source": [
    "df"
   ]
  },
  {
   "cell_type": "code",
   "execution_count": 10,
   "id": "cffc093a",
   "metadata": {
    "collapsed": true
   },
   "outputs": [
    {
     "name": "stdout",
     "output_type": "stream",
     "text": [
      "Cleaned dataset shape: (392, 6)\n"
     ]
    }
   ],
   "source": [
    "# Drop rows with missing target or features\n",
    "df = df.dropna(subset=['mpg', 'cylinders', 'displacement', 'horsepower', 'weight', 'acceleration'])\n",
    "\n",
    "# Remove impossible or extreme MPG values\n",
    "df = df[(df['mpg'] > 0) & (df['mpg'] < 100)]\n",
    "\n",
    "# Remove impossible displacement, horsepower, weight\n",
    "df = df[(df['displacement'] > 0) & (df['horsepower'] > 0) & (df['weight'] > 0)]\n",
    "\n",
    "# Keep reasonable acceleration times\n",
    "df = df[(df['acceleration'] > 0) & (df['acceleration'] < 30)]\n",
    "\n",
    "print(\"Cleaned dataset shape:\", df.shape)\n"
   ]
  },
  {
   "cell_type": "code",
   "execution_count": 11,
   "id": "43efc992",
   "metadata": {},
   "outputs": [],
   "source": [
    "# --------------------------\n",
    "# Split into reference & current\n",
    "# --------------------------\n",
    "reference_data = df.iloc[:196].copy()\n",
    "current_data = df.iloc[196:].copy()"
   ]
  },
  {
   "cell_type": "code",
   "execution_count": 12,
   "id": "2368e7e7",
   "metadata": {
    "collapsed": true
   },
   "outputs": [
    {
     "name": "stdout",
     "output_type": "stream",
     "text": [
      "Simulating data drift in the 'current' dataset...\n",
      "Reference data shape: (196, 6)\n",
      "Current data shape: (196, 6)\n"
     ]
    }
   ],
   "source": [
    "# --------------------------\n",
    "# Simulate data drift\n",
    "# --------------------------\n",
    "print(\"Simulating data drift in the 'current' dataset...\")\n",
    "\n",
    "numeric_cols = ['mpg', 'cylinders', 'displacement', 'horsepower', 'weight', 'acceleration']\n",
    "\n",
    "if 'mpg' in numeric_cols:\n",
    "    current_data['mpg'] *= 1.1  # Increase MPG\n",
    "if 'horsepower' in numeric_cols:\n",
    "    current_data['horsepower'] *= 0.9  # Decrease HP\n",
    "if 'weight' in numeric_cols:\n",
    "    current_data['weight'] *= 1.05  # Increase weight\n",
    "if 'cylinders' in numeric_cols:\n",
    "    current_data['cylinders'] = current_data['cylinders'].replace({4: 6, 6: 8, 8: 4})\n",
    "\n",
    "print(\"Reference data shape:\", reference_data.shape)\n",
    "print(\"Current data shape:\", current_data.shape)"
   ]
  },
  {
   "cell_type": "code",
   "execution_count": 13,
   "id": "77fb7137",
   "metadata": {
    "collapsed": true
   },
   "outputs": [
    {
     "name": "stdout",
     "output_type": "stream",
     "text": [
      "Reference data shape: (196, 6)\n",
      "Current data shape: (196, 6)\n"
     ]
    }
   ],
   "source": [
    "print(\"Reference data shape:\", reference_data.shape)\n",
    "print(\"Current data shape:\", current_data.shape)\n"
   ]
  },
  {
   "cell_type": "code",
   "execution_count": 14,
   "id": "cfd66f63",
   "metadata": {},
   "outputs": [],
   "source": [
    "# --------------------------\n",
    "# Drop irrelevant columns & constants\n",
    "# --------------------------\n",
    "def drop_constant_columns(df):\n",
    "    return df.loc[:, (df.nunique(dropna=False) > 1)]\n",
    "\n",
    "reference_data_clean = reference_data.drop(columns=['car_name', 'origin'], errors='ignore')\n",
    "current_data_clean = current_data.drop(columns=['car_name', 'origin'], errors='ignore')\n",
    "\n",
    "reference_data_clean = drop_constant_columns(reference_data_clean)\n",
    "current_data_clean = drop_constant_columns(current_data_clean)"
   ]
  },
  {
   "cell_type": "code",
   "execution_count": 15,
   "id": "e1215030",
   "metadata": {},
   "outputs": [],
   "source": [
    "# Ensure matching columns\n",
    "common_columns = reference_data_clean.columns.intersection(current_data_clean.columns)\n",
    "reference_data_clean = reference_data_clean[common_columns]\n",
    "current_data_clean = current_data_clean[common_columns]"
   ]
  },
  {
   "cell_type": "code",
   "execution_count": 16,
   "id": "0e9e7189",
   "metadata": {
    "collapsed": true
   },
   "outputs": [
    {
     "name": "stderr",
     "output_type": "stream",
     "text": [
      "/home/azureuser/anaconda3/lib/python3.9/site-packages/scipy/stats/_stats_py.py:7985: RuntimeWarning: divide by zero encountered in divide\n",
      "  terms = (f_obs_float - f_exp)**2 / f_exp\n",
      "/home/azureuser/anaconda3/lib/python3.9/site-packages/scipy/stats/_stats_py.py:7985: RuntimeWarning: divide by zero encountered in divide\n",
      "  terms = (f_obs_float - f_exp)**2 / f_exp\n"
     ]
    }
   ],
   "source": [
    "import datetime\n",
    "from evidently.report import Report\n",
    "from evidently.metric_preset import DataDriftPreset\n",
    "\n",
    "# Create and run the data drift report for Auto MPG\n",
    "data_drift_report = Report(metrics=[\n",
    "    DataDriftPreset()\n",
    "])\n",
    "\n",
    "data_drift_report.run(\n",
    "    current_data=current_data_clean,\n",
    "    reference_data=reference_data_clean,\n",
    "    column_mapping=None\n",
    ")"
   ]
  },
  {
   "cell_type": "code",
   "execution_count": 17,
   "id": "28549579",
   "metadata": {
    "collapsed": true
   },
   "outputs": [
    {
     "name": "stdout",
     "output_type": "stream",
     "text": [
      "Auto MPG Data Drift Report saved to auto_mpg_drift_report_20250811_174029.html\n"
     ]
    }
   ],
   "source": [
    "# Save the report as an HTML file with timestamp\n",
    "report_filename = f'auto_mpg_drift_report_{datetime.datetime.now().strftime(\"%Y%m%d_%H%M%S\")}.html'\n",
    "data_drift_report.save_html(report_filename)\n",
    "\n",
    "print(f\"Auto MPG Data Drift Report saved to {report_filename}\")"
   ]
  },
  {
   "cell_type": "markdown",
   "id": "48a46fa8",
   "metadata": {},
   "source": [
    "# Model Performance and Drift Report"
   ]
  },
  {
   "cell_type": "code",
   "execution_count": 18,
   "id": "eb5e8bfb",
   "metadata": {},
   "outputs": [
    {
     "name": "stdout",
     "output_type": "stream",
     "text": [
      "Cleaned dataset shape: (392, 9)\n"
     ]
    }
   ],
   "source": [
    "import pandas as pd\n",
    "from sklearn.model_selection import train_test_split\n",
    "\n",
    "# Load dataset\n",
    "df = pd.read_csv(\"http://archive.ics.uci.edu/ml/machine-learning-databases/auto-mpg/auto-mpg.data\", delim_whitespace=True, names=[\"mpg\",\"cylinders\",\"displacement\",\"horsepower\",\"weight\",\"acceleration\",\"model_year\",\"origin\",\"car_name\"], na_values='?')\n",
    "\n",
    "# Basic cleaning\n",
    "# Remove rows with missing MPG or key features\n",
    "df.replace(\"?\", pd.NA, inplace=True)\n",
    "df.dropna(inplace=True)\n",
    "\n",
    "# Convert numeric columns to floats\n",
    "numeric_cols = ['mpg', 'cylinders', 'displacement', 'horsepower', 'weight', 'acceleration', 'model_year']\n",
    "df[numeric_cols] = df[numeric_cols].astype(float)\n",
    "\n",
    "print(\"Cleaned dataset shape:\", df.shape)\n",
    "\n",
    "# Split into reference and current datasets\n",
    "reference_data = df.iloc[:200].copy()\n",
    "current_data = df.iloc[200:392].copy()\n"
   ]
  },
  {
   "cell_type": "code",
   "execution_count": 19,
   "id": "1c92c1ac",
   "metadata": {},
   "outputs": [
    {
     "name": "stdout",
     "output_type": "stream",
     "text": [
      "Simulating data drift in the 'current' dataset...\n",
      "Reference data shape: (200, 9)\n",
      "Current data shape: (192, 9)\n"
     ]
    }
   ],
   "source": [
    "print(\"Simulating data drift in the 'current' dataset...\")\n",
    "\n",
    "current_data['weight'] = current_data['weight'] * 1.2\n",
    "current_data['horsepower'] = current_data['horsepower'] * 0.85\n",
    "current_data['acceleration'] = current_data['acceleration'] + 2\n",
    "\n",
    "print(\"Reference data shape:\", reference_data.shape)\n",
    "print(\"Current data shape:\", current_data.shape)\n"
   ]
  },
  {
   "cell_type": "code",
   "execution_count": 20,
   "id": "9b2dc525",
   "metadata": {},
   "outputs": [
    {
     "name": "stdout",
     "output_type": "stream",
     "text": [
      "\n",
      "Training a simple linear regression model...\n",
      "Model saved to auto_mpg_model.joblib\n"
     ]
    }
   ],
   "source": [
    "from sklearn.linear_model import LinearRegression\n",
    "import joblib\n",
    "\n",
    "print(\"\\nTraining a simple linear regression model...\")\n",
    "\n",
    "features = ['cylinders', 'displacement', 'horsepower', 'weight', 'acceleration']\n",
    "target = 'mpg'\n",
    "\n",
    "X_ref = reference_data[features]\n",
    "y_ref = reference_data[target]\n",
    "\n",
    "# Data cleaning for model input\n",
    "X_ref.dropna(inplace=True)\n",
    "y_ref = y_ref.loc[X_ref.index]\n",
    "\n",
    "# Train model\n",
    "model = LinearRegression()\n",
    "model.fit(X_ref, y_ref)\n",
    "\n",
    "# Save model\n",
    "model_filename = 'auto_mpg_model.joblib'\n",
    "joblib.dump(model, model_filename)\n",
    "print(f\"Model saved to {model_filename}\")\n"
   ]
  },
  {
   "cell_type": "code",
   "execution_count": 21,
   "id": "bd7046b1",
   "metadata": {},
   "outputs": [],
   "source": [
    "reference_data['prediction'] = model.predict(X_ref)\n",
    "\n",
    "X_curr = current_data[features]\n",
    "X_curr.dropna(inplace=True)\n",
    "current_data['prediction'] = model.predict(X_curr)\n"
   ]
  },
  {
   "cell_type": "code",
   "execution_count": 22,
   "id": "1325e21f",
   "metadata": {},
   "outputs": [
    {
     "name": "stdout",
     "output_type": "stream",
     "text": [
      "\n",
      "Generating Evidently Model Performance report...\n",
      "Model performance report saved to auto_mpg_model_performance_20250811_174030.html\n"
     ]
    }
   ],
   "source": [
    "from evidently.report import Report\n",
    "from evidently.metric_preset import TargetDriftPreset\n",
    "import datetime\n",
    "\n",
    "print(\"\\nGenerating Evidently Model Performance report...\")\n",
    "\n",
    "model_report = Report(metrics=[\n",
    "    TargetDriftPreset()\n",
    "])\n",
    "model_report.run(current_data=current_data, reference_data=reference_data, column_mapping=None)\n",
    "\n",
    "# Save the report\n",
    "model_report_filename = f'auto_mpg_model_performance_{datetime.datetime.now().strftime(\"%Y%m%d_%H%M%S\")}.html'\n",
    "model_report.save_html(model_report_filename)\n",
    "print(f\"Model performance report saved to {model_report_filename}\")\n"
   ]
  },
  {
   "cell_type": "code",
   "execution_count": 23,
   "id": "81b5ca15",
   "metadata": {},
   "outputs": [
    {
     "name": "stderr",
     "output_type": "stream",
     "text": [
      "/home/azureuser/anaconda3/lib/python3.9/site-packages/scipy/stats/_stats_py.py:7985: RuntimeWarning:\n",
      "\n",
      "divide by zero encountered in divide\n",
      "\n",
      "/home/azureuser/anaconda3/lib/python3.9/site-packages/scipy/stats/_stats_py.py:7985: RuntimeWarning:\n",
      "\n",
      "divide by zero encountered in divide\n",
      "\n",
      "/home/azureuser/anaconda3/lib/python3.9/site-packages/scipy/stats/_stats_py.py:7985: RuntimeWarning:\n",
      "\n",
      "divide by zero encountered in divide\n",
      "\n",
      "/home/azureuser/anaconda3/lib/python3.9/site-packages/scipy/stats/_stats_py.py:7985: RuntimeWarning:\n",
      "\n",
      "divide by zero encountered in divide\n",
      "\n"
     ]
    },
    {
     "name": "stdout",
     "output_type": "stream",
     "text": [
      "Data Drift Report saved to auto_mpg_data_drift_20250811_174030.html\n"
     ]
    }
   ],
   "source": [
    "from evidently.metric_preset import DataDriftPreset\n",
    "\n",
    "data_drift_report = Report(metrics=[\n",
    "    DataDriftPreset()\n",
    "])\n",
    "data_drift_report.run(current_data=current_data, reference_data=reference_data, column_mapping=None)\n",
    "\n",
    "# Save drift report\n",
    "drift_report_filename = f'auto_mpg_data_drift_{datetime.datetime.now().strftime(\"%Y%m%d_%H%M%S\")}.html'\n",
    "data_drift_report.save_html(drift_report_filename)\n",
    "print(f\"Data Drift Report saved to {drift_report_filename}\")\n"
   ]
  },
  {
   "cell_type": "code",
   "execution_count": 26,
   "id": "3d3ea997",
   "metadata": {},
   "outputs": [],
   "source": [
    "def check_for_drift(report_json, threshold=0.1):\n",
    "    data_drift_metrics = report_json.get('metrics', [])\n",
    "    for metric in data_drift_metrics:\n",
    "        if metric.get('metric') == 'DatasetDriftMetric':\n",
    "            drift_score = metric.get('result', {}).get('drift_score')  # this is the global drift score\n",
    "            if drift_score is not None and drift_score > threshold:\n",
    "                return True\n",
    "    return False\n"
   ]
  },
  {
   "cell_type": "code",
   "execution_count": 27,
   "id": "b397f45b",
   "metadata": {},
   "outputs": [
    {
     "name": "stdout",
     "output_type": "stream",
     "text": [
      "\n",
      "No significant data drift detected.\n"
     ]
    }
   ],
   "source": [
    "def local_alert(drift_detected):\n",
    "    if drift_detected:\n",
    "        print(\"\\n!!! ALERT: Data Drift Detected !!!\")\n",
    "        print(\"Check HTML reports for detailed drift analysis.\")\n",
    "    else:\n",
    "        print(\"\\nNo significant data drift detected.\")\n",
    "\n",
    "# Run drift check\n",
    "report_json_data = data_drift_report.as_dict()\n",
    "drift_detected = check_for_drift(report_json_data)\n",
    "local_alert(drift_detected)\n"
   ]
  },
  {
   "cell_type": "code",
   "execution_count": null,
   "id": "be2b0c9b",
   "metadata": {},
   "outputs": [],
   "source": []
  }
 ],
 "metadata": {
  "kernelspec": {
   "display_name": "Python 3 (ipykernel)",
   "language": "python",
   "name": "python3"
  },
  "language_info": {
   "codemirror_mode": {
    "name": "ipython",
    "version": 3
   },
   "file_extension": ".py",
   "mimetype": "text/x-python",
   "name": "python",
   "nbconvert_exporter": "python",
   "pygments_lexer": "ipython3",
   "version": "3.9.12"
  }
 },
 "nbformat": 4,
 "nbformat_minor": 5
}
